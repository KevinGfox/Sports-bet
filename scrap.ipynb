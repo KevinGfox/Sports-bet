{
 "cells": [
  {
   "cell_type": "code",
   "execution_count": 1,
   "metadata": {},
   "outputs": [],
   "source": [
    "import scrapy\n",
    "from scrapy.crawler import CrawlerProcess\n",
    "import os \n",
    "import logging"
   ]
  },
  {
   "cell_type": "code",
   "execution_count": 2,
   "metadata": {},
   "outputs": [
    {
     "name": "stderr",
     "output_type": "stream",
     "text": [
      "2022-11-08 10:06:36 [scrapy.utils.log] INFO: Scrapy 2.6.2 started (bot: scrapybot)\n",
      "2022-11-08 10:06:36 [scrapy.utils.log] INFO: Versions: lxml 4.6.3.0, libxml2 2.9.12, cssselect 1.1.0, parsel 1.6.0, w3lib 2.0.1, Twisted 22.4.0, Python 3.9.7 (default, Sep 16 2021, 16:59:28) [MSC v.1916 64 bit (AMD64)], pyOpenSSL 21.0.0 (OpenSSL 1.1.1l  24 Aug 2021), cryptography 3.4.8, Platform Windows-10-10.0.19044-SP0\n",
      "2022-11-08 10:06:36 [scrapy.crawler] INFO: Overridden settings:\n",
      "{'LOG_LEVEL': 20,\n",
      " 'USER_AGENT': 'Mozilla/5.0 (X11; Ubuntu; Linux x86_64; rv:98.0) '\n",
      "               'Gecko/20100101 Firefox/98.0'}\n",
      "2022-11-08 10:06:36 [scrapy.extensions.telnet] INFO: Telnet Password: a1aa1a0724f02908\n",
      "2022-11-08 10:06:36 [scrapy.middleware] INFO: Enabled extensions:\n",
      "['scrapy.extensions.corestats.CoreStats',\n",
      " 'scrapy.extensions.telnet.TelnetConsole',\n",
      " 'scrapy.extensions.feedexport.FeedExporter',\n",
      " 'scrapy.extensions.logstats.LogStats']\n",
      "2022-11-08 10:06:36 [scrapy.middleware] INFO: Enabled downloader middlewares:\n",
      "['scrapy.downloadermiddlewares.httpauth.HttpAuthMiddleware',\n",
      " 'scrapy.downloadermiddlewares.downloadtimeout.DownloadTimeoutMiddleware',\n",
      " 'scrapy.downloadermiddlewares.defaultheaders.DefaultHeadersMiddleware',\n",
      " 'scrapy.downloadermiddlewares.useragent.UserAgentMiddleware',\n",
      " 'scrapy.downloadermiddlewares.retry.RetryMiddleware',\n",
      " 'scrapy.downloadermiddlewares.redirect.MetaRefreshMiddleware',\n",
      " 'scrapy.downloadermiddlewares.httpcompression.HttpCompressionMiddleware',\n",
      " 'scrapy.downloadermiddlewares.redirect.RedirectMiddleware',\n",
      " 'scrapy.downloadermiddlewares.cookies.CookiesMiddleware',\n",
      " 'scrapy.downloadermiddlewares.httpproxy.HttpProxyMiddleware',\n",
      " 'scrapy.downloadermiddlewares.stats.DownloaderStats']\n",
      "2022-11-08 10:06:36 [scrapy.middleware] INFO: Enabled spider middlewares:\n",
      "['scrapy.spidermiddlewares.httperror.HttpErrorMiddleware',\n",
      " 'scrapy.spidermiddlewares.offsite.OffsiteMiddleware',\n",
      " 'scrapy.spidermiddlewares.referer.RefererMiddleware',\n",
      " 'scrapy.spidermiddlewares.urllength.UrlLengthMiddleware',\n",
      " 'scrapy.spidermiddlewares.depth.DepthMiddleware']\n",
      "2022-11-08 10:06:36 [scrapy.middleware] INFO: Enabled item pipelines:\n",
      "[]\n",
      "2022-11-08 10:06:36 [scrapy.core.engine] INFO: Spider opened\n",
      "2022-11-08 10:06:36 [scrapy.extensions.logstats] INFO: Crawled 0 pages (at 0 pages/min), scraped 0 items (at 0 items/min)\n",
      "2022-11-08 10:06:36 [scrapy.extensions.telnet] INFO: Telnet console listening on 127.0.0.1:6023\n",
      "2022-11-08 10:06:36 [scrapy.core.engine] INFO: Closing spider (finished)\n",
      "2022-11-08 10:06:36 [scrapy.extensions.feedexport] INFO: Stored json feed (38 items) in: src/serie_A_scrap_url.json\n",
      "2022-11-08 10:06:36 [scrapy.statscollectors] INFO: Dumping Scrapy stats:\n",
      "{'downloader/request_bytes': 315,\n",
      " 'downloader/request_count': 1,\n",
      " 'downloader/request_method_count/GET': 1,\n",
      " 'downloader/response_bytes': 58121,\n",
      " 'downloader/response_count': 1,\n",
      " 'downloader/response_status_count/200': 1,\n",
      " 'elapsed_time_seconds': 0.191304,\n",
      " 'feedexport/success_count/FileFeedStorage': 1,\n",
      " 'finish_reason': 'finished',\n",
      " 'finish_time': datetime.datetime(2022, 11, 8, 9, 6, 36, 922707),\n",
      " 'httpcompression/response_bytes': 403013,\n",
      " 'httpcompression/response_count': 1,\n",
      " 'item_scraped_count': 38,\n",
      " 'log_count/INFO': 11,\n",
      " 'response_received_count': 1,\n",
      " 'scheduler/dequeued': 1,\n",
      " 'scheduler/dequeued/memory': 1,\n",
      " 'scheduler/enqueued': 1,\n",
      " 'scheduler/enqueued/memory': 1,\n",
      " 'start_time': datetime.datetime(2022, 11, 8, 9, 6, 36, 731403)}\n",
      "2022-11-08 10:06:36 [scrapy.core.engine] INFO: Spider closed (finished)\n"
     ]
    }
   ],
   "source": [
    "class SerieASpider(scrapy.Spider):\n",
    "    name = \"Serie A\"\n",
    "    start_urls = [\"https://www.lequipe.fr/Football/championnat-d-italie/page-calendrier-resultats\"]\n",
    "\n",
    "    def parse(self, response):\n",
    "       card = response.xpath('//*[@id=\"outer-edito-content\"]/div[2]/main/div[1]/div/label/select/option')\n",
    "       for i in card:\n",
    "            yield {\n",
    "                #\"url\": i.xpath('option').attrib[\"value\"]\n",
    "                \"url\":i.xpath('./@value').get()\n",
    "            }\n",
    "\n",
    "# Define a filename\n",
    "filename = \"serie_A_scrap_url.json\"\n",
    "\n",
    "# Remove previous file if it allready exist\n",
    "if filename in os.listdir('src/'):\n",
    "        os.remove('src/' + filename)\n",
    "\n",
    "# Define the settings for the crawler process\n",
    "process = CrawlerProcess(settings = {\n",
    "    # simulate browser\n",
    "    'USER_AGENT': 'Mozilla/5.0 (X11; Ubuntu; Linux x86_64; rv:98.0) Gecko/20100101 Firefox/98.0', \n",
    "    # display regular errors\n",
    "    'LOG_LEVEL': logging.INFO,\n",
    "    \"FEEDS\": {\n",
    "        'src/' + filename : {\"format\": \"json\"},\n",
    "    }\n",
    "})\n",
    "\n",
    "# Initiate crawler\n",
    "process.crawl(SerieASpider)\n",
    "process.start()"
   ]
  },
  {
   "cell_type": "code",
   "execution_count": 11,
   "metadata": {},
   "outputs": [],
   "source": [
    "import pandas as pd\n",
    "import json"
   ]
  },
  {
   "cell_type": "code",
   "execution_count": 15,
   "metadata": {},
   "outputs": [],
   "source": [
    "file = open('src/serie_A_scrap_url.json')"
   ]
  },
  {
   "cell_type": "code",
   "execution_count": 16,
   "metadata": {},
   "outputs": [],
   "source": [
    "serieA_url = json.load(file)"
   ]
  },
  {
   "cell_type": "code",
   "execution_count": 29,
   "metadata": {},
   "outputs": [
    {
     "data": {
      "text/plain": [
       "{'url': 'https://iphdata.lequipe.fr/iPhoneDatas/EFR/STD/ALL/V1/Football/CalendarList/CompetitionPhase/championnat-d-italie/current/1re-journee.json'}"
      ]
     },
     "execution_count": 29,
     "metadata": {},
     "output_type": "execute_result"
    }
   ],
   "source": [
    "serieA_url[0]"
   ]
  },
  {
   "cell_type": "code",
   "execution_count": 31,
   "metadata": {},
   "outputs": [
    {
     "data": {
      "text/plain": [
       "'https://iphdata.lequipe.fr/iPhoneDatas/EFR/STD/ALL/V1/Football/CalendarList/CompetitionPhase/championnat-d-italie/current/1re-journee.json'"
      ]
     },
     "execution_count": 31,
     "metadata": {},
     "output_type": "execute_result"
    }
   ],
   "source": [
    "serieA_url[0]['url']"
   ]
  },
  {
   "cell_type": "code",
   "execution_count": 33,
   "metadata": {},
   "outputs": [],
   "source": [
    "URLS = []\n",
    "for i in range(13):\n",
    "    url = serieA_url[i]['url']\n",
    "    URLS.append(url)"
   ]
  },
  {
   "cell_type": "code",
   "execution_count": null,
   "metadata": {},
   "outputs": [],
   "source": [
    "class SerieASpidermatch(scrapy.Spider):\n",
    "    name = \"Serie A\"\n",
    "    URLS = serieA_url\n",
    "\n",
    "    def start_requests(self):\n",
    "        for d in [URLS]:\n",
    "            yield Request(d,callback=self.parse)\n",
    "\n",
    "    def parse(self, response):\n",
    "        card = response.xpath('//*[@id=\"outer-edito-content\"]/div[3]/main/div[3]/div[2]/div[1]/div/div')\n",
    "        for i in card:\n",
    "            winner = i.css('div.TeamScore__name TeamScore__team--winner').get()\n",
    "            looser = i.css('TeamScore__name TeamScore__team--looser').get()\n",
    "            score = i.css('TeamScore__score TeamScore__score--ended').getall()\n",
    "            dic = {\n",
    "                'winner': winner , 'looser': looser , 'score': score\n",
    "            }\n",
    "            \n",
    "            \n",
    "            yield dic\n",
    "    \n",
    "    \n",
    "\n",
    "# Define a filename\n",
    "filename = \"serie_A_scrap_matches.json\"\n",
    "\n",
    "# Remove previous file if it allready exist\n",
    "if filename in os.listdir('src/'):\n",
    "        os.remove('src/' + filename)\n",
    "\n",
    "# Define the settings for the crawler process\n",
    "process = CrawlerProcess(settings = {\n",
    "    # simulate browser\n",
    "    'USER_AGENT': 'Mozilla/5.0 (X11; Ubuntu; Linux x86_64; rv:98.0) Gecko/20100101 Firefox/98.0', \n",
    "    # display regular errors\n",
    "    'LOG_LEVEL': logging.INFO,\n",
    "    \"FEEDS\": {\n",
    "        'src/' + filename : {\"format\": \"json\"},\n",
    "    }\n",
    "})\n",
    "\n",
    "# Initiate crawler\n",
    "process.crawl(SerieASpidermatch)\n",
    "process.start()"
   ]
  }
 ],
 "metadata": {
  "kernelspec": {
   "display_name": "Python 3.9.7 ('base')",
   "language": "python",
   "name": "python3"
  },
  "language_info": {
   "codemirror_mode": {
    "name": "ipython",
    "version": 3
   },
   "file_extension": ".py",
   "mimetype": "text/x-python",
   "name": "python",
   "nbconvert_exporter": "python",
   "pygments_lexer": "ipython3",
   "version": "3.9.7"
  },
  "orig_nbformat": 4,
  "vscode": {
   "interpreter": {
    "hash": "0808f0fb738a38d95d91a8071609f927d09ab0ddc712259d543064c631152856"
   }
  }
 },
 "nbformat": 4,
 "nbformat_minor": 2
}
